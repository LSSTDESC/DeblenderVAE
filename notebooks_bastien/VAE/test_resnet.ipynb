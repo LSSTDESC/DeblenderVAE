{
 "cells": [
  {
   "cell_type": "code",
   "execution_count": 1,
   "metadata": {},
   "outputs": [],
   "source": [
    "import numpy as np\n",
    "import matplotlib.pyplot as plt\n",
    "import tensorflow.keras\n",
    "import sys\n",
    "import os\n",
    "import logging\n",
    "import galsim\n",
    "import random\n",
    "import cmath as cm\n",
    "import math\n",
    "from tensorflow.keras import backend as K\n",
    "from tensorflow.keras import metrics\n",
    "from tensorflow.keras.layers import Input, Dense, Lambda, Layer, Add, Multiply, Reshape, Flatten, BatchNormalization\n",
    "from tensorflow.keras.models import Model, Sequential\n",
    "import scipy\n",
    "import scipy.stats as stats\n",
    "from astropy.io import fits\n",
    "from astropy.cosmology import WMAP9 as cosmo\n",
    "%matplotlib inline\n",
    "from tensorflow.keras.layers import Conv2D, Input, Dense, Dropout, MaxPool2D, Flatten,  Reshape, UpSampling2D, Cropping2D, Conv2DTranspose, PReLU, Concatenate, Lambda, BatchNormalization, concatenate\n",
    "import tensorflow as tf\n",
    "import seaborn as sns"
   ]
  },
  {
   "cell_type": "code",
   "execution_count": 2,
   "metadata": {},
   "outputs": [],
   "source": [
    "import numpy as np\n",
    "import matplotlib.pyplot as plt\n",
    "import tensorflow.keras\n",
    "import sys\n",
    "import os\n",
    "import logging\n",
    "import galsim\n",
    "import random\n",
    "import cmath as cm\n",
    "import math\n",
    "from tensorflow.keras import backend as K\n",
    "from tensorflow.keras import metrics\n",
    "from tensorflow.keras.layers import Input, Dense, Lambda, Layer, Add, Multiply, Reshape, Flatten, BatchNormalization\n",
    "from tensorflow.keras.models import Model, Sequential\n",
    "from tensorflow.keras.layers import Conv2D, Input, Dense, Dropout, MaxPool2D, Flatten,  Reshape, UpSampling2D, Cropping2D, Conv2DTranspose, PReLU, Concatenate, Lambda, BatchNormalization, concatenate, LeakyReLU"
   ]
  },
  {
   "cell_type": "code",
   "execution_count": 3,
   "metadata": {},
   "outputs": [],
   "source": [
    "nb_of_bands = 1"
   ]
  },
  {
   "cell_type": "code",
   "execution_count": 139,
   "metadata": {},
   "outputs": [],
   "source": [
    "#### Create encooder\n",
    "def build_encoder(latent_dim, hidden_dim, filters, kernels,nb_of_bands, conv_activation='softplus', dense_activation='softplus'):\n",
    "    \"\"\"\n",
    "    Return encoder as model\n",
    "    latent_dim : dimension of the latent variable\n",
    "    hidden_dim : dimension of the dense hidden layer\n",
    "    filters: list of the sizes of the filters used for this model\n",
    "    list of the size of the kernels used for each filter of this model\n",
    "    conv_activation: type of activation layer used after the convolutional layers\n",
    "    dense_activation: type of activation layer used after the dense layers\n",
    "    nb_of bands : nb of band-pass filters needed in the model\n",
    "    \"\"\"\n",
    "    input_layer = Input(shape=(64,64,nb_of_bands))\n",
    "    \n",
    "    r = Reshape((64,64,nb_of_bands))(input_layer)\n",
    "    h = BatchNormalization()(r)\n",
    "    for i in range (len(filters)):\n",
    "        h = Conv2D(filters[i], (kernels[i],kernels[i]), activation=conv_activation, padding='same')(h)\n",
    "        h = PReLU()(h)\n",
    "        if i == 0:\n",
    "            h_shortcut = h\n",
    "        elif i == 1:\n",
    "            h_shortcut_0 = h\n",
    "        elif i ==2 :\n",
    "            h_shortcut_1 = h\n",
    "        elif i ==3 :\n",
    "            h_shortcut_2 = h\n",
    "        h = Conv2D(filters[i], (kernels[i],kernels[i]), activation=conv_activation, padding='same', strides=(2,2))(h)\n",
    "        h = PReLU()(h)\n",
    "    h_shortcut_3 = h\n",
    "    h = Flatten()(h)\n",
    "    h = Dense(hidden_dim, activation=dense_activation)(h)\n",
    "    h = PReLU()(h)\n",
    "    mu = Dense(latent_dim)(h)\n",
    "    sigma = Dense(latent_dim, activation='softplus')(h)\n",
    "    return Model(input_layer, [mu, sigma, h_shortcut, h_shortcut_0, h_shortcut_1, h_shortcut_2, h_shortcut_3])"
   ]
  },
  {
   "cell_type": "code",
   "execution_count": 140,
   "metadata": {},
   "outputs": [],
   "source": [
    "batch_size = 100 \n",
    "\n",
    "input_shape = (64,64,nb_of_bands)\n",
    "hidden_dim = 256\n",
    "filters = [32,64, 128, 256]\n",
    "kernels = [3,3,3,3]\n",
    "nb_of_bands = 1\n",
    "latent_dim = 32\n",
    "\n",
    "# Build the encoder\n",
    "encoder = build_encoder(latent_dim, hidden_dim, filters, kernels, nb_of_bands)"
   ]
  },
  {
   "cell_type": "code",
   "execution_count": 141,
   "metadata": {},
   "outputs": [
    {
     "name": "stdout",
     "output_type": "stream",
     "text": [
      "__________________________________________________________________________________________________\n",
      "Layer (type)                    Output Shape         Param #     Connected to                     \n",
      "==================================================================================================\n",
      "input_206 (InputLayer)          (None, 64, 64, 1)    0                                            \n",
      "__________________________________________________________________________________________________\n",
      "reshape_38 (Reshape)            (None, 64, 64, 1)    0           input_206[0][0]                  \n",
      "__________________________________________________________________________________________________\n",
      "batch_normalization_v1_6 (Batch (None, 64, 64, 1)    4           reshape_38[0][0]                 \n",
      "__________________________________________________________________________________________________\n",
      "conv2d_47 (Conv2D)              (None, 64, 64, 32)   320         batch_normalization_v1_6[0][0]   \n",
      "__________________________________________________________________________________________________\n",
      "p_re_lu_268 (PReLU)             (None, 64, 64, 32)   131072      conv2d_47[0][0]                  \n",
      "__________________________________________________________________________________________________\n",
      "conv2d_48 (Conv2D)              (None, 32, 32, 32)   9248        p_re_lu_268[0][0]                \n",
      "__________________________________________________________________________________________________\n",
      "p_re_lu_269 (PReLU)             (None, 32, 32, 32)   32768       conv2d_48[0][0]                  \n",
      "__________________________________________________________________________________________________\n",
      "conv2d_49 (Conv2D)              (None, 32, 32, 64)   18496       p_re_lu_269[0][0]                \n",
      "__________________________________________________________________________________________________\n",
      "p_re_lu_270 (PReLU)             (None, 32, 32, 64)   65536       conv2d_49[0][0]                  \n",
      "__________________________________________________________________________________________________\n",
      "conv2d_50 (Conv2D)              (None, 16, 16, 64)   36928       p_re_lu_270[0][0]                \n",
      "__________________________________________________________________________________________________\n",
      "p_re_lu_271 (PReLU)             (None, 16, 16, 64)   16384       conv2d_50[0][0]                  \n",
      "__________________________________________________________________________________________________\n",
      "conv2d_51 (Conv2D)              (None, 16, 16, 128)  73856       p_re_lu_271[0][0]                \n",
      "__________________________________________________________________________________________________\n",
      "p_re_lu_272 (PReLU)             (None, 16, 16, 128)  32768       conv2d_51[0][0]                  \n",
      "__________________________________________________________________________________________________\n",
      "conv2d_52 (Conv2D)              (None, 8, 8, 128)    147584      p_re_lu_272[0][0]                \n",
      "__________________________________________________________________________________________________\n",
      "p_re_lu_273 (PReLU)             (None, 8, 8, 128)    8192        conv2d_52[0][0]                  \n",
      "__________________________________________________________________________________________________\n",
      "conv2d_53 (Conv2D)              (None, 8, 8, 256)    295168      p_re_lu_273[0][0]                \n",
      "__________________________________________________________________________________________________\n",
      "p_re_lu_274 (PReLU)             (None, 8, 8, 256)    16384       conv2d_53[0][0]                  \n",
      "__________________________________________________________________________________________________\n",
      "conv2d_54 (Conv2D)              (None, 4, 4, 256)    590080      p_re_lu_274[0][0]                \n",
      "__________________________________________________________________________________________________\n",
      "p_re_lu_275 (PReLU)             (None, 4, 4, 256)    4096        conv2d_54[0][0]                  \n",
      "__________________________________________________________________________________________________\n",
      "flatten_4 (Flatten)             (None, 4096)         0           p_re_lu_275[0][0]                \n",
      "__________________________________________________________________________________________________\n",
      "dense_76 (Dense)                (None, 256)          1048832     flatten_4[0][0]                  \n",
      "__________________________________________________________________________________________________\n",
      "p_re_lu_276 (PReLU)             (None, 256)          256         dense_76[0][0]                   \n",
      "__________________________________________________________________________________________________\n",
      "dense_77 (Dense)                (None, 32)           8224        p_re_lu_276[0][0]                \n",
      "__________________________________________________________________________________________________\n",
      "dense_78 (Dense)                (None, 32)           8224        p_re_lu_276[0][0]                \n",
      "==================================================================================================\n",
      "Total params: 2,544,420\n",
      "Trainable params: 2,544,418\n",
      "Non-trainable params: 2\n",
      "__________________________________________________________________________________________________\n"
     ]
    }
   ],
   "source": [
    "encoder.summary()"
   ]
  },
  {
   "cell_type": "code",
   "execution_count": 142,
   "metadata": {},
   "outputs": [],
   "source": [
    "#### Create encooder\n",
    "def build_decoder(input_shape, latent_dim, hidden_dim, filters, kernels, conv_activation='softplus', dense_activation='softplus'):\n",
    "    \"\"\"\n",
    "    Return decoder as model\n",
    "    input_shape: shape of the input data\n",
    "    latent_dim : dimension of the latent variable\n",
    "    hidden_dim : dimension of the dense hidden layer\n",
    "    filters: list of the sizes of the filters used for this model\n",
    "    list of the size of the kernels used for each filter of this model\n",
    "    conv_activation: type of activation layer used after the convolutional layers\n",
    "    dense_activation: type of activation layer used after the dense layers\n",
    "    \"\"\"\n",
    "    input_layer = Input(shape=(latent_dim,))\n",
    "    h_shortcut = Input(shape=(64,64,32))\n",
    "    h_shortcut_3 = Input(shape=(4,4,256))\n",
    "    h_shortcut_2 = Input(shape=(8,8,256))\n",
    "    h_shortcut_1 = Input(shape=(16,16,128))\n",
    "    h_shortcut_0 = Input(shape=(32,32,64))\n",
    "    \n",
    "    \n",
    "    h = Dense(hidden_dim, activation=dense_activation)(input_layer)\n",
    "    h = PReLU()(h)\n",
    "    w = int(np.ceil(input_shape[0]/2**(len(filters))))\n",
    "    h = Dense(w*w*filters[-1], activation=dense_activation)(h)\n",
    "    h = PReLU()(h)\n",
    "    h = Reshape((w,w,filters[-1]))(h)\n",
    "    h = Add()([h, h_shortcut_3])\n",
    "    for i in range(len(filters)-1,-1,-1):\n",
    "        print(i)\n",
    "        h = Conv2DTranspose(filters[i], (kernels[i],kernels[i]), activation=conv_activation, padding='same', strides=(2,2))(h)\n",
    "        h = PReLU()(h)\n",
    "        h = Conv2DTranspose(filters[i], (kernels[i],kernels[i]), activation=conv_activation, padding='same')(h)\n",
    "        h = PReLU()(h)\n",
    "        if i == 1:\n",
    "            h = Add()([h, h_shortcut_0])\n",
    "        if i == 2:\n",
    "            h = Add()([h, h_shortcut_1])\n",
    "        if i == 3:\n",
    "            h = Add()([h, h_shortcut_2])\n",
    "    h = Add()([h, h_shortcut])\n",
    "    h = Conv2D(input_shape[-1], (3,3), activation='sigmoid', padding='same')(h)\n",
    "    cropping = int(h.get_shape()[1]-input_shape[0])\n",
    "    if cropping>0:\n",
    "        print('in cropping')\n",
    "        if cropping % 2 == 0:\n",
    "            h = Cropping2D(cropping/2)(h)\n",
    "        else:\n",
    "            h = Cropping2D(((cropping//2,cropping//2+1),(cropping//2,cropping//2+1)))(h)\n",
    "\n",
    "    return Model([input_layer, h_shortcut, h_shortcut_0, h_shortcut_1, h_shortcut_2,h_shortcut_3], h)"
   ]
  },
  {
   "cell_type": "code",
   "execution_count": 143,
   "metadata": {},
   "outputs": [
    {
     "name": "stdout",
     "output_type": "stream",
     "text": [
      "3\n",
      "2\n",
      "1\n",
      "0\n"
     ]
    }
   ],
   "source": [
    "# Build the decoder\n",
    "decoder = build_decoder(input_shape, latent_dim, hidden_dim, filters, kernels, conv_activation=None, dense_activation=None)"
   ]
  },
  {
   "cell_type": "code",
   "execution_count": 144,
   "metadata": {
    "scrolled": false
   },
   "outputs": [
    {
     "name": "stdout",
     "output_type": "stream",
     "text": [
      "__________________________________________________________________________________________________\n",
      "Layer (type)                    Output Shape         Param #     Connected to                     \n",
      "==================================================================================================\n",
      "input_207 (InputLayer)          (None, 32)           0                                            \n",
      "__________________________________________________________________________________________________\n",
      "dense_79 (Dense)                (None, 256)          8448        input_207[0][0]                  \n",
      "__________________________________________________________________________________________________\n",
      "p_re_lu_277 (PReLU)             (None, 256)          256         dense_79[0][0]                   \n",
      "__________________________________________________________________________________________________\n",
      "dense_80 (Dense)                (None, 4096)         1052672     p_re_lu_277[0][0]                \n",
      "__________________________________________________________________________________________________\n",
      "p_re_lu_278 (PReLU)             (None, 4096)         4096        dense_80[0][0]                   \n",
      "__________________________________________________________________________________________________\n",
      "reshape_39 (Reshape)            (None, 4, 4, 256)    0           p_re_lu_278[0][0]                \n",
      "__________________________________________________________________________________________________\n",
      "input_209 (InputLayer)          (None, 4, 4, 256)    0                                            \n",
      "__________________________________________________________________________________________________\n",
      "add_92 (Add)                    (None, 4, 4, 256)    0           reshape_39[0][0]                 \n",
      "                                                                 input_209[0][0]                  \n",
      "__________________________________________________________________________________________________\n",
      "conv2d_transpose_169 (Conv2DTra (None, 8, 8, 256)    590080      add_92[0][0]                     \n",
      "__________________________________________________________________________________________________\n",
      "p_re_lu_279 (PReLU)             (None, 8, 8, 256)    16384       conv2d_transpose_169[0][0]       \n",
      "__________________________________________________________________________________________________\n",
      "conv2d_transpose_170 (Conv2DTra (None, 8, 8, 256)    590080      p_re_lu_279[0][0]                \n",
      "__________________________________________________________________________________________________\n",
      "p_re_lu_280 (PReLU)             (None, 8, 8, 256)    16384       conv2d_transpose_170[0][0]       \n",
      "__________________________________________________________________________________________________\n",
      "input_210 (InputLayer)          (None, 8, 8, 256)    0                                            \n",
      "__________________________________________________________________________________________________\n",
      "add_93 (Add)                    (None, 8, 8, 256)    0           p_re_lu_280[0][0]                \n",
      "                                                                 input_210[0][0]                  \n",
      "__________________________________________________________________________________________________\n",
      "conv2d_transpose_171 (Conv2DTra (None, 16, 16, 128)  295040      add_93[0][0]                     \n",
      "__________________________________________________________________________________________________\n",
      "p_re_lu_281 (PReLU)             (None, 16, 16, 128)  32768       conv2d_transpose_171[0][0]       \n",
      "__________________________________________________________________________________________________\n",
      "conv2d_transpose_172 (Conv2DTra (None, 16, 16, 128)  147584      p_re_lu_281[0][0]                \n",
      "__________________________________________________________________________________________________\n",
      "p_re_lu_282 (PReLU)             (None, 16, 16, 128)  32768       conv2d_transpose_172[0][0]       \n",
      "__________________________________________________________________________________________________\n",
      "input_211 (InputLayer)          (None, 16, 16, 128)  0                                            \n",
      "__________________________________________________________________________________________________\n",
      "add_94 (Add)                    (None, 16, 16, 128)  0           p_re_lu_282[0][0]                \n",
      "                                                                 input_211[0][0]                  \n",
      "__________________________________________________________________________________________________\n",
      "conv2d_transpose_173 (Conv2DTra (None, 32, 32, 64)   73792       add_94[0][0]                     \n",
      "__________________________________________________________________________________________________\n",
      "p_re_lu_283 (PReLU)             (None, 32, 32, 64)   65536       conv2d_transpose_173[0][0]       \n",
      "__________________________________________________________________________________________________\n",
      "conv2d_transpose_174 (Conv2DTra (None, 32, 32, 64)   36928       p_re_lu_283[0][0]                \n",
      "__________________________________________________________________________________________________\n",
      "p_re_lu_284 (PReLU)             (None, 32, 32, 64)   65536       conv2d_transpose_174[0][0]       \n",
      "__________________________________________________________________________________________________\n",
      "input_212 (InputLayer)          (None, 32, 32, 64)   0                                            \n",
      "__________________________________________________________________________________________________\n",
      "add_95 (Add)                    (None, 32, 32, 64)   0           p_re_lu_284[0][0]                \n",
      "                                                                 input_212[0][0]                  \n",
      "__________________________________________________________________________________________________\n",
      "conv2d_transpose_175 (Conv2DTra (None, 64, 64, 32)   18464       add_95[0][0]                     \n",
      "__________________________________________________________________________________________________\n",
      "p_re_lu_285 (PReLU)             (None, 64, 64, 32)   131072      conv2d_transpose_175[0][0]       \n",
      "__________________________________________________________________________________________________\n",
      "conv2d_transpose_176 (Conv2DTra (None, 64, 64, 32)   9248        p_re_lu_285[0][0]                \n",
      "__________________________________________________________________________________________________\n",
      "p_re_lu_286 (PReLU)             (None, 64, 64, 32)   131072      conv2d_transpose_176[0][0]       \n",
      "__________________________________________________________________________________________________\n",
      "input_208 (InputLayer)          (None, 64, 64, 32)   0                                            \n",
      "__________________________________________________________________________________________________\n",
      "add_96 (Add)                    (None, 64, 64, 32)   0           p_re_lu_286[0][0]                \n",
      "                                                                 input_208[0][0]                  \n",
      "__________________________________________________________________________________________________\n",
      "conv2d_55 (Conv2D)              (None, 64, 64, 1)    289         add_96[0][0]                     \n",
      "==================================================================================================\n",
      "Total params: 3,318,497\n",
      "Trainable params: 3,318,497\n",
      "Non-trainable params: 0\n",
      "__________________________________________________________________________________________________\n"
     ]
    }
   ],
   "source": [
    "decoder.summary()"
   ]
  },
  {
   "cell_type": "code",
   "execution_count": 145,
   "metadata": {},
   "outputs": [],
   "source": [
    "import layers"
   ]
  },
  {
   "cell_type": "code",
   "execution_count": 146,
   "metadata": {},
   "outputs": [],
   "source": [
    "def build_vanilla_vae(encoder, decoder, coeff_KL,full_cov=False):\n",
    "    \"\"\"\n",
    "    Returns the model to train and parameters to plot relevant information during training using the VAEHistory callback\n",
    "    \"\"\"\n",
    "    input_vae = Input(shape=encoder.input.shape[1:])\n",
    "    mu, sigma, shortcut, shortcut_0, shortcut_1, shortcut_2, shortcut_3 = encoder(input_vae)\n",
    "\n",
    "    z, Dkl = layers.SampleMultivariateGaussian(full_cov=full_cov, add_KL=False, return_KL=True, coeff_KL=coeff_KL)([mu,sigma])\n",
    "    \n",
    "    vae = Model(input_vae, decoder([z,shortcut, shortcut_0, shortcut_1, shortcut_2, shortcut_3]))\n",
    "    vae_utils = Model(input_vae, [*encoder(input_vae), z, Dkl, decoder([z,shortcut, shortcut_0, shortcut_1, shortcut_2, shortcut_3])])\n",
    "\n",
    "    return vae, vae_utils, Dkl"
   ]
  },
  {
   "cell_type": "code",
   "execution_count": 147,
   "metadata": {
    "scrolled": false
   },
   "outputs": [],
   "source": [
    "vae, vae_utils, Dkl = build_vanilla_vae(encoder, decoder, coeff_KL = None)"
   ]
  },
  {
   "cell_type": "code",
   "execution_count": 148,
   "metadata": {},
   "outputs": [
    {
     "name": "stdout",
     "output_type": "stream",
     "text": [
      "__________________________________________________________________________________________________\n",
      "Layer (type)                    Output Shape         Param #     Connected to                     \n",
      "==================================================================================================\n",
      "input_213 (InputLayer)          (None, 64, 64, 1)    0                                            \n",
      "__________________________________________________________________________________________________\n",
      "model_28 (Model)                [(None, 32), (None,  2544420     input_213[0][0]                  \n",
      "__________________________________________________________________________________________________\n",
      "sample_multivariate_gaussian_11 [(None, 32), (None,) 0           model_28[1][0]                   \n",
      "                                                                 model_28[1][1]                   \n",
      "__________________________________________________________________________________________________\n",
      "model_29 (Model)                (None, 64, 64, 1)    3318497     sample_multivariate_gaussian_11[0\n",
      "                                                                 model_28[1][2]                   \n",
      "                                                                 model_28[1][3]                   \n",
      "                                                                 model_28[1][4]                   \n",
      "                                                                 model_28[1][5]                   \n",
      "                                                                 model_28[1][6]                   \n",
      "==================================================================================================\n",
      "Total params: 5,862,917\n",
      "Trainable params: 5,862,915\n",
      "Non-trainable params: 2\n",
      "__________________________________________________________________________________________________\n"
     ]
    }
   ],
   "source": [
    "vae.summary()"
   ]
  },
  {
   "cell_type": "code",
   "execution_count": 149,
   "metadata": {},
   "outputs": [],
   "source": [
    "from keras.utils.vis_utils import plot_model"
   ]
  },
  {
   "cell_type": "code",
   "execution_count": 150,
   "metadata": {},
   "outputs": [],
   "source": [
    "plot_model(vae, to_file='test_resnet_2.png', show_shapes=True, show_layer_names=True)"
   ]
  },
  {
   "cell_type": "code",
   "execution_count": null,
   "metadata": {},
   "outputs": [],
   "source": []
  }
 ],
 "metadata": {
  "kernelspec": {
   "display_name": "Python 3",
   "language": "python",
   "name": "python3"
  },
  "language_info": {
   "codemirror_mode": {
    "name": "ipython",
    "version": 3
   },
   "file_extension": ".py",
   "mimetype": "text/x-python",
   "name": "python",
   "nbconvert_exporter": "python",
   "pygments_lexer": "ipython3",
   "version": "3.6.8"
  },
  "toc": {
   "base_numbering": 1,
   "nav_menu": {},
   "number_sections": true,
   "sideBar": true,
   "skip_h1_title": false,
   "title_cell": "Table of Contents",
   "title_sidebar": "Contents",
   "toc_cell": false,
   "toc_position": {},
   "toc_section_display": true,
   "toc_window_display": false
  }
 },
 "nbformat": 4,
 "nbformat_minor": 2
}
