{
 "cells": [
  {
   "cell_type": "code",
   "execution_count": 1,
   "metadata": {},
   "outputs": [
    {
     "name": "stdout",
     "output_type": "stream",
     "text": [
      "\n",
      "WARNING: The TensorFlow contrib module will not be included in TensorFlow 2.0.\n",
      "For more information, please see:\n",
      "  * https://github.com/tensorflow/community/blob/master/rfcs/20180907-contrib-sunset.md\n",
      "  * https://github.com/tensorflow/addons\n",
      "If you depend on functionality not listed there, please file an issue.\n",
      "\n"
     ]
    }
   ],
   "source": [
    "import numpy as np\n",
    "import matplotlib as mpl\n",
    "import matplotlib.pyplot as plt\n",
    "import seaborn as sns\n",
    "import pandas as pd\n",
    "import os, sys\n",
    "import galsim\n",
    "\n",
    "sys.path.insert(0,'../scripts/tools_for_VAE/')\n",
    "import tools_for_VAE\n",
    "from tools_for_VAE import utils, plot\n",
    "from tools_for_VAE import vae_functions, model, plot, generator, results_processing, utils\n",
    "from tools_for_VAE.utils import load_vae_conv, denorm, norm\n",
    "\n",
    "from IPython.display import set_matplotlib_formats\n",
    "set_matplotlib_formats('retina')\n",
    "\n",
    "import warnings\n",
    "warnings.filterwarnings(\"ignore\")"
   ]
  },
  {
   "cell_type": "code",
   "execution_count": 2,
   "metadata": {},
   "outputs": [],
   "source": [
    "#%run ../scripts/Images_generation/cosmos_generation.py"
   ]
  },
  {
   "cell_type": "code",
   "execution_count": 3,
   "metadata": {},
   "outputs": [],
   "source": [
    "training_or_test = 'test'\n",
    "data_dir = '/sps/lsst/users/barcelin/data/single_galaxies/28/' + training_or_test\n",
    "root = 'galaxies_isolated_20191022'"
   ]
  },
  {
   "cell_type": "code",
   "execution_count": 4,
   "metadata": {},
   "outputs": [],
   "source": [
    "dfs = []\n",
    "for i in range(1):\n",
    "    dfs.append(pd.read_csv(os.path.join(data_dir, root+'_{}_data.csv'.format(i))))\n",
    "df = dfs[0]\n",
    "for df2 in dfs[1:]:\n",
    "    df = df.append(df2)"
   ]
  },
  {
   "cell_type": "code",
   "execution_count": 5,
   "metadata": {},
   "outputs": [
    {
     "name": "stdout",
     "output_type": "stream",
     "text": [
      "<class 'pandas.core.frame.DataFrame'>\n",
      "RangeIndex: 10000 entries, 0 to 9999\n",
      "Data columns (total 7 columns):\n",
      "redshift        10000 non-null float64\n",
      "moment_sigma    10000 non-null float64\n",
      "e1              10000 non-null float64\n",
      "e2              10000 non-null float64\n",
      "SNR             10000 non-null float64\n",
      "SNR_peak        10000 non-null float64\n",
      "mag             10000 non-null float64\n",
      "dtypes: float64(7)\n",
      "memory usage: 547.0 KB\n"
     ]
    }
   ],
   "source": [
    "df.info()"
   ]
  },
  {
   "cell_type": "code",
   "execution_count": 7,
   "metadata": {},
   "outputs": [
    {
     "data": {
      "text/html": [
       "<div>\n",
       "<style scoped>\n",
       "    .dataframe tbody tr th:only-of-type {\n",
       "        vertical-align: middle;\n",
       "    }\n",
       "\n",
       "    .dataframe tbody tr th {\n",
       "        vertical-align: top;\n",
       "    }\n",
       "\n",
       "    .dataframe thead th {\n",
       "        text-align: right;\n",
       "    }\n",
       "</style>\n",
       "<table border=\"1\" class=\"dataframe\">\n",
       "  <thead>\n",
       "    <tr style=\"text-align: right;\">\n",
       "      <th></th>\n",
       "      <th>redshift</th>\n",
       "      <th>moment_sigma</th>\n",
       "      <th>e1</th>\n",
       "      <th>e2</th>\n",
       "      <th>SNR</th>\n",
       "      <th>SNR_peak</th>\n",
       "      <th>mag</th>\n",
       "    </tr>\n",
       "  </thead>\n",
       "  <tbody>\n",
       "    <tr>\n",
       "      <th>0</th>\n",
       "      <td>0.3728</td>\n",
       "      <td>2.347043</td>\n",
       "      <td>0.123473</td>\n",
       "      <td>0.551234</td>\n",
       "      <td>25.521063</td>\n",
       "      <td>78.083646</td>\n",
       "      <td>0.106139</td>\n",
       "    </tr>\n",
       "    <tr>\n",
       "      <th>1</th>\n",
       "      <td>0.8144</td>\n",
       "      <td>1.588691</td>\n",
       "      <td>-0.308641</td>\n",
       "      <td>0.319644</td>\n",
       "      <td>27.097584</td>\n",
       "      <td>28.553894</td>\n",
       "      <td>0.051122</td>\n",
       "    </tr>\n",
       "    <tr>\n",
       "      <th>2</th>\n",
       "      <td>0.3027</td>\n",
       "      <td>1.925562</td>\n",
       "      <td>-0.047280</td>\n",
       "      <td>0.186962</td>\n",
       "      <td>26.750065</td>\n",
       "      <td>31.614044</td>\n",
       "      <td>0.049189</td>\n",
       "    </tr>\n",
       "    <tr>\n",
       "      <th>3</th>\n",
       "      <td>0.1544</td>\n",
       "      <td>1.721385</td>\n",
       "      <td>0.013249</td>\n",
       "      <td>0.483021</td>\n",
       "      <td>27.235385</td>\n",
       "      <td>20.546669</td>\n",
       "      <td>0.034981</td>\n",
       "    </tr>\n",
       "    <tr>\n",
       "      <th>4</th>\n",
       "      <td>0.7710</td>\n",
       "      <td>1.846338</td>\n",
       "      <td>0.556189</td>\n",
       "      <td>-0.080457</td>\n",
       "      <td>27.696793</td>\n",
       "      <td>14.423821</td>\n",
       "      <td>0.022528</td>\n",
       "    </tr>\n",
       "  </tbody>\n",
       "</table>\n",
       "</div>"
      ],
      "text/plain": [
       "   redshift  moment_sigma        e1        e2        SNR   SNR_peak       mag\n",
       "0    0.3728      2.347043  0.123473  0.551234  25.521063  78.083646  0.106139\n",
       "1    0.8144      1.588691 -0.308641  0.319644  27.097584  28.553894  0.051122\n",
       "2    0.3027      1.925562 -0.047280  0.186962  26.750065  31.614044  0.049189\n",
       "3    0.1544      1.721385  0.013249  0.483021  27.235385  20.546669  0.034981\n",
       "4    0.7710      1.846338  0.556189 -0.080457  27.696793  14.423821  0.022528"
      ]
     },
     "execution_count": 7,
     "metadata": {},
     "output_type": "execute_result"
    }
   ],
   "source": [
    "df.head()"
   ]
  },
  {
   "cell_type": "code",
   "execution_count": 8,
   "metadata": {},
   "outputs": [
    {
     "data": {
      "text/html": [
       "<div>\n",
       "<style scoped>\n",
       "    .dataframe tbody tr th:only-of-type {\n",
       "        vertical-align: middle;\n",
       "    }\n",
       "\n",
       "    .dataframe tbody tr th {\n",
       "        vertical-align: top;\n",
       "    }\n",
       "\n",
       "    .dataframe thead th {\n",
       "        text-align: right;\n",
       "    }\n",
       "</style>\n",
       "<table border=\"1\" class=\"dataframe\">\n",
       "  <thead>\n",
       "    <tr style=\"text-align: right;\">\n",
       "      <th></th>\n",
       "      <th>redshift</th>\n",
       "      <th>moment_sigma</th>\n",
       "      <th>e1</th>\n",
       "      <th>e2</th>\n",
       "      <th>SNR</th>\n",
       "      <th>SNR_peak</th>\n",
       "      <th>mag</th>\n",
       "    </tr>\n",
       "  </thead>\n",
       "  <tbody>\n",
       "    <tr>\n",
       "      <th>count</th>\n",
       "      <td>10000.000000</td>\n",
       "      <td>10000.000000</td>\n",
       "      <td>10000.000000</td>\n",
       "      <td>10000.000000</td>\n",
       "      <td>10000.000000</td>\n",
       "      <td>10000.000000</td>\n",
       "      <td>10000.000000</td>\n",
       "    </tr>\n",
       "    <tr>\n",
       "      <th>mean</th>\n",
       "      <td>1.085139</td>\n",
       "      <td>2.028924</td>\n",
       "      <td>-0.002715</td>\n",
       "      <td>0.000819</td>\n",
       "      <td>26.647066</td>\n",
       "      <td>67.019950</td>\n",
       "      <td>0.103415</td>\n",
       "    </tr>\n",
       "    <tr>\n",
       "      <th>std</th>\n",
       "      <td>0.797212</td>\n",
       "      <td>0.451629</td>\n",
       "      <td>0.290762</td>\n",
       "      <td>0.291197</td>\n",
       "      <td>1.202988</td>\n",
       "      <td>158.950453</td>\n",
       "      <td>0.295221</td>\n",
       "    </tr>\n",
       "    <tr>\n",
       "      <th>min</th>\n",
       "      <td>0.006500</td>\n",
       "      <td>1.488476</td>\n",
       "      <td>-1.227877</td>\n",
       "      <td>-1.600182</td>\n",
       "      <td>20.509111</td>\n",
       "      <td>4.730731</td>\n",
       "      <td>0.005445</td>\n",
       "    </tr>\n",
       "    <tr>\n",
       "      <th>25%</th>\n",
       "      <td>0.497700</td>\n",
       "      <td>1.725604</td>\n",
       "      <td>-0.181699</td>\n",
       "      <td>-0.175791</td>\n",
       "      <td>26.184397</td>\n",
       "      <td>16.947182</td>\n",
       "      <td>0.027042</td>\n",
       "    </tr>\n",
       "    <tr>\n",
       "      <th>50%</th>\n",
       "      <td>0.873850</td>\n",
       "      <td>1.909301</td>\n",
       "      <td>-0.003473</td>\n",
       "      <td>-0.002153</td>\n",
       "      <td>26.987763</td>\n",
       "      <td>25.998395</td>\n",
       "      <td>0.041093</td>\n",
       "    </tr>\n",
       "    <tr>\n",
       "      <th>75%</th>\n",
       "      <td>1.389000</td>\n",
       "      <td>2.175293</td>\n",
       "      <td>0.173908</td>\n",
       "      <td>0.179882</td>\n",
       "      <td>27.494682</td>\n",
       "      <td>49.523470</td>\n",
       "      <td>0.074014</td>\n",
       "    </tr>\n",
       "    <tr>\n",
       "      <th>max</th>\n",
       "      <td>5.208000</td>\n",
       "      <td>5.651824</td>\n",
       "      <td>1.606169</td>\n",
       "      <td>1.998942</td>\n",
       "      <td>27.999770</td>\n",
       "      <td>2699.164172</td>\n",
       "      <td>7.703596</td>\n",
       "    </tr>\n",
       "  </tbody>\n",
       "</table>\n",
       "</div>"
      ],
      "text/plain": [
       "           redshift  moment_sigma            e1            e2           SNR  \\\n",
       "count  10000.000000  10000.000000  10000.000000  10000.000000  10000.000000   \n",
       "mean       1.085139      2.028924     -0.002715      0.000819     26.647066   \n",
       "std        0.797212      0.451629      0.290762      0.291197      1.202988   \n",
       "min        0.006500      1.488476     -1.227877     -1.600182     20.509111   \n",
       "25%        0.497700      1.725604     -0.181699     -0.175791     26.184397   \n",
       "50%        0.873850      1.909301     -0.003473     -0.002153     26.987763   \n",
       "75%        1.389000      2.175293      0.173908      0.179882     27.494682   \n",
       "max        5.208000      5.651824      1.606169      1.998942     27.999770   \n",
       "\n",
       "           SNR_peak           mag  \n",
       "count  10000.000000  10000.000000  \n",
       "mean      67.019950      0.103415  \n",
       "std      158.950453      0.295221  \n",
       "min        4.730731      0.005445  \n",
       "25%       16.947182      0.027042  \n",
       "50%       25.998395      0.041093  \n",
       "75%       49.523470      0.074014  \n",
       "max     2699.164172      7.703596  "
      ]
     },
     "execution_count": 8,
     "metadata": {},
     "output_type": "execute_result"
    }
   ],
   "source": [
    "df.describe()"
   ]
  },
  {
   "cell_type": "code",
   "execution_count": 9,
   "metadata": {},
   "outputs": [
    {
     "data": {
      "text/plain": [
       "27.999769667522912"
      ]
     },
     "execution_count": 9,
     "metadata": {},
     "output_type": "execute_result"
    },
    {
     "data": {
      "image/png": "[encoded data removed]",
      "text/plain": [
       "<Figure size 432x288 with 1 Axes>"
      ]
     },
     "metadata": {
      "needs_background": "light"
     },
     "output_type": "display_data"
    }
   ],
   "source": [
    "sns.distplot(df['SNR'], bins=np.geomspace(np.min(df['SNR']), np.max(df['SNR']), 50), kde=False)\n",
    "plt.xscale('log')\n",
    "plt.xlabel('SNR')\n",
    "np.max(df['SNR'])"
   ]
  },
  {
   "cell_type": "code",
   "execution_count": 6,
   "metadata": {},
   "outputs": [],
   "source": [
    "df['e'] = np.sqrt(df['e1']**2+df['e2']**2)"
   ]
  },
  {
   "cell_type": "code",
   "execution_count": 14,
   "metadata": {},
   "outputs": [
    {
     "name": "stdout",
     "output_type": "stream",
     "text": [
      "1.6878863559729709 3.1777247345658806\n"
     ]
    },
    {
     "data": {
      "image/png": "[encoded data removed]",
      "text/plain": [
       "<Figure size 432x288 with 1 Axes>"
      ]
     },
     "metadata": {
      "needs_background": "light"
     },
     "output_type": "display_data"
    }
   ],
   "source": [
    "import scipy\n",
    "\n",
    "e_fit = df['e'][np.logical_and(0.<df['e'], df['e']<1.)]\n",
    "a, b,_,_ = scipy.stats.beta.fit(e_fit, floc=0., fscale=1.)\n",
    "print(a, b)\n",
    "\n",
    "xx = np.linspace(0,1,100)\n",
    "plt.plot(xx,scipy.stats.beta.pdf(xx, a=a, b=b))\n",
    "_ = plt.hist(e_fit, bins=100, range=[0,1], normed=True)"
   ]
  },
  {
   "cell_type": "code",
   "execution_count": 15,
   "metadata": {},
   "outputs": [],
   "source": [
    "training_or_test = 'validation'\n",
    "data_dir = '/sps/lsst/users/barcelin/data/single_galaxies/28/'+training_or_test\n",
    "root = 'galaxies_isolated_20191022'\n",
    "count = 0"
   ]
  },
  {
   "cell_type": "code",
   "execution_count": 30,
   "metadata": {},
   "outputs": [],
   "source": [
    "def compute_e(galaxies):\n",
    "    PSF = galsim.Kolmogorov(fwhm=0.65)\n",
    "    r_band = 6\n",
    "    bands = [0,1,2,3,4,5,6,7,8,9]\n",
    "    pix_scale = 0.2\n",
    "\n",
    "    psf_image = PSF.drawImage(nx=64, ny=64, scale=pix_scale)\n",
    "    e = []\n",
    "    weight = []\n",
    "    error_list = []\n",
    "    denormed_gal = denorm(galaxies[:,0], bands)\n",
    "\n",
    "    for i in range(len(galaxies)):\n",
    "        #print(i)\n",
    "        temp_weight = 0.\n",
    "        try :\n",
    "            gal_image = galsim.Image(denormed_gal[i][r_band,:,:])\n",
    "            gal_image.scale = pix_scale\n",
    "\n",
    "            # Measurements of shapes\n",
    "            shear_est = 'KSB'\n",
    "            res = galsim.hsm.EstimateShear(gal_image, psf_image, shear_est=shear_est, strict=True)\n",
    "            g = np.sqrt(res.corrected_g1**2+res.corrected_g2**2)\n",
    "\n",
    "            if g < 1.:\n",
    "                #error_list.append(i)\n",
    "                #pass\n",
    "                temp_weight = 1. / (scipy.stats.beta.pdf(g, a=a, b=b) + 0.1)\n",
    "            else:\n",
    "                error_list.append(i)\n",
    "                #print('ok')\n",
    "                #e.append(e_beta_in)\n",
    "            #print(e_beta_in, 1 / scipy.stats.beta.pdf(e_beta_in, a=a, b=b))\n",
    "        except:\n",
    "            pass\n",
    "        \n",
    "        weight.append(temp_weight)\n",
    "    return np.array(weight)#,error_list #np.array(e), count, error_list"
   ]
  },
  {
   "cell_type": "code",
   "execution_count": 31,
   "metadata": {},
   "outputs": [
    {
     "name": "stdout",
     "output_type": "stream",
     "text": [
      "[96, 466, 483, 540, 598, 743, 745, 825, 1049, 1228, 1247, 1368, 1401, 1463, 1502, 1576, 1599, 1628, 1739, 1766, 1775, 1881, 1943, 1968, 2250, 2394, 2673, 2722, 2728, 2792, 2877, 2935, 2952, 3086, 3172, 3330, 3496, 3672, 3685, 3708, 3901, 4019, 4033, 4161, 4465, 4490, 4866, 4879, 4907, 4920, 4973, 5216, 5261, 5373, 5401, 5519, 5541, 5552, 5637, 6016, 6038, 6121, 6200, 6241, 6262, 6329, 6486, 6618, 6649, 6669, 7252, 7469, 7692, 7732, 7864, 7983, 8009, 8019, 8031, 8067, 8473, 8501, 8588, 8668, 8817, 8942, 9033, 9078, 9295, 9318, 9465, 9516, 9600, 9671, 9898, 9924]\n"
     ]
    }
   ],
   "source": [
    "weights = []\n",
    "bands = [0,1,2,3,4,5,6,7,8,9]\n",
    "for i in range (1):\n",
    "    galaxies = np.load(os.path.join(data_dir, root+'_{}_images.npy'.format(i)), mmap_mode = 'c')\n",
    "    \n",
    "    # Compute e_beta\n",
    "    weights = compute_e(galaxies)#, error_list\n",
    "    #print(e_beta_test.shape, error_list)\n",
    "    \n",
    "    #norm(galaxies[:,0], bands)\n",
    "    #new_galaxies = np.delete(galaxies,error_list, axis = 0)\n",
    "    #print(error_list)\n",
    "    #print(weights)#,e_beta_test\n",
    "    #np.save(data_dir+'/cropped/'+str('weights_v2_{}.npy'.format(i+1)),np.array(weights))\n",
    "    #np.save(data_dir+'/cropped/'+str('images_cropped_v2_{}.npy'.format(i+1)),new_galaxies)"
   ]
  },
  {
   "cell_type": "code",
   "execution_count": 32,
   "metadata": {},
   "outputs": [
    {
     "data": {
      "text/plain": [
       "(10000,)"
      ]
     },
     "execution_count": 32,
     "metadata": {},
     "output_type": "execute_result"
    }
   ],
   "source": [
    "weights.shape"
   ]
  },
  {
   "cell_type": "code",
   "execution_count": 33,
   "metadata": {},
   "outputs": [],
   "source": [
    "np.save(data_dir+'/cropped/'+str('weights_v2_{}.npy'.format(i+1)),weights)\n",
    "#np.save(data_dir+'/cropped/'+str('images_cropped_v2_{}.npy'.format(i+1)),new_galaxies)"
   ]
  },
  {
   "cell_type": "code",
   "execution_count": 35,
   "metadata": {},
   "outputs": [
    {
     "data": {
      "text/plain": [
       "9.999718348599352"
      ]
     },
     "execution_count": 35,
     "metadata": {},
     "output_type": "execute_result"
    },
    {
     "data": {
      "image/png": "[encoded data removed]",
      "text/plain": [
       "<Figure size 432x288 with 1 Axes>"
      ]
     },
     "metadata": {
      "needs_background": "light"
     },
     "output_type": "display_data"
    }
   ],
   "source": [
    "_ = plt.hist(weights, bins = 50)\n",
    "np.max(weights)"
   ]
  },
  {
   "cell_type": "code",
   "execution_count": null,
   "metadata": {},
   "outputs": [],
   "source": []
  }
 ],
 "metadata": {
  "kernelspec": {
   "display_name": "Python 3",
   "language": "python",
   "name": "python3"
  },
  "language_info": {
   "codemirror_mode": {
    "name": "ipython",
    "version": 3
   },
   "file_extension": ".py",
   "mimetype": "text/x-python",
   "name": "python",
   "nbconvert_exporter": "python",
   "pygments_lexer": "ipython3",
   "version": "3.6.8"
  },
  "toc": {
   "base_numbering": 1,
   "nav_menu": {},
   "number_sections": true,
   "sideBar": true,
   "skip_h1_title": false,
   "title_cell": "Table of Contents",
   "title_sidebar": "Contents",
   "toc_cell": false,
   "toc_position": {},
   "toc_section_display": true,
   "toc_window_display": false
  }
 },
 "nbformat": 4,
 "nbformat_minor": 2
}
