{
 "cells": [
  {
   "cell_type": "code",
   "execution_count": 3,
   "metadata": {},
   "outputs": [
    {
     "name": "stderr",
     "output_type": "stream",
     "text": [
      "/sps/lsst/users/barcelin/miniconda/envs/python_cpu4/lib/python3.6/site-packages/tensorflow/python/framework/dtypes.py:526: FutureWarning: Passing (type, 1) or '1type' as a synonym of type is deprecated; in a future version of numpy, it will be understood as (type, (1,)) / '(1,)type'.\n",
      "  _np_qint8 = np.dtype([(\"qint8\", np.int8, 1)])\n",
      "/sps/lsst/users/barcelin/miniconda/envs/python_cpu4/lib/python3.6/site-packages/tensorflow/python/framework/dtypes.py:527: FutureWarning: Passing (type, 1) or '1type' as a synonym of type is deprecated; in a future version of numpy, it will be understood as (type, (1,)) / '(1,)type'.\n",
      "  _np_quint8 = np.dtype([(\"quint8\", np.uint8, 1)])\n",
      "/sps/lsst/users/barcelin/miniconda/envs/python_cpu4/lib/python3.6/site-packages/tensorflow/python/framework/dtypes.py:528: FutureWarning: Passing (type, 1) or '1type' as a synonym of type is deprecated; in a future version of numpy, it will be understood as (type, (1,)) / '(1,)type'.\n",
      "  _np_qint16 = np.dtype([(\"qint16\", np.int16, 1)])\n",
      "/sps/lsst/users/barcelin/miniconda/envs/python_cpu4/lib/python3.6/site-packages/tensorflow/python/framework/dtypes.py:529: FutureWarning: Passing (type, 1) or '1type' as a synonym of type is deprecated; in a future version of numpy, it will be understood as (type, (1,)) / '(1,)type'.\n",
      "  _np_quint16 = np.dtype([(\"quint16\", np.uint16, 1)])\n",
      "/sps/lsst/users/barcelin/miniconda/envs/python_cpu4/lib/python3.6/site-packages/tensorflow/python/framework/dtypes.py:530: FutureWarning: Passing (type, 1) or '1type' as a synonym of type is deprecated; in a future version of numpy, it will be understood as (type, (1,)) / '(1,)type'.\n",
      "  _np_qint32 = np.dtype([(\"qint32\", np.int32, 1)])\n",
      "/sps/lsst/users/barcelin/miniconda/envs/python_cpu4/lib/python3.6/site-packages/tensorflow/python/framework/dtypes.py:535: FutureWarning: Passing (type, 1) or '1type' as a synonym of type is deprecated; in a future version of numpy, it will be understood as (type, (1,)) / '(1,)type'.\n",
      "  np_resource = np.dtype([(\"resource\", np.ubyte, 1)])\n"
     ]
    }
   ],
   "source": [
    "import numpy as np\n",
    "import matplotlib.pyplot as plt\n",
    "import sys\n",
    "import os\n",
    "import logging\n",
    "import galsim\n",
    "import random\n",
    "import cmath as cm\n",
    "import math\n",
    "import scipy\n",
    "import scipy.stats as stats\n",
    "from astropy.io import fits\n",
    "from astropy.cosmology import WMAP9 as cosmo\n",
    "%matplotlib inline\n",
    "import tensorflow as tf\n",
    "import seaborn as sns\n",
    "from importlib import reload\n",
    "import pandas as pd\n",
    "import matplotlib\n",
    "import matplotlib as mpl"
   ]
  },
  {
   "cell_type": "code",
   "execution_count": 4,
   "metadata": {},
   "outputs": [
    {
     "name": "stdout",
     "output_type": "stream",
     "text": [
      "\n",
      "WARNING: The TensorFlow contrib module will not be included in TensorFlow 2.0.\n",
      "For more information, please see:\n",
      "  * https://github.com/tensorflow/community/blob/master/rfcs/20180907-contrib-sunset.md\n",
      "  * https://github.com/tensorflow/addons\n",
      "If you depend on functionality not listed there, please file an issue.\n",
      "\n"
     ]
    }
   ],
   "source": [
    "sys.path.insert(0,'../../scripts/tools_for_VAE/')\n",
    "import tools_for_VAE\n",
    "\n",
    "from tools_for_VAE import vae_functions, model, plot, generator, results_processing, utils\n",
    "\n",
    "from tools_for_VAE.model import build_encoder, build_decoder\n",
    "from tools_for_VAE.utils import load_vae_conv, denorm, norm\n",
    "from tools_for_VAE.plot import plot_rgb_lsst, plot_rgb_lsst_euclid, createCircularMask, mean_var, plot_corner_latent\n",
    "from tools_for_VAE.results_processing import processing\n",
    "\n",
    "import photutils\n",
    "from photutils.centroids import centroid_com"
   ]
  },
  {
   "cell_type": "code",
   "execution_count": 9,
   "metadata": {},
   "outputs": [],
   "source": [
    "data_dir = \"/sps/lsst/users/barcelin/data/blended_galaxies/27.5/miscentered_peak/test/\"\n",
    "root = 'galaxies_blended_20191024'"
   ]
  },
  {
   "cell_type": "code",
   "execution_count": 10,
   "metadata": {},
   "outputs": [],
   "source": [
    "images = np.load(data_dir+'galaxies_blended_20191024_0_images.npy', mmap_mode = 'c')\n",
    "shifts = np.load(data_dir+'galaxies_blended_20191024_0_shifts.npy', mmap_mode = 'c')"
   ]
  },
  {
   "cell_type": "code",
   "execution_count": 13,
   "metadata": {},
   "outputs": [
    {
     "name": "stdout",
     "output_type": "stream",
     "text": [
      "1\n"
     ]
    }
   ],
   "source": [
    "%run -i ../../scripts/Images_generation/images_generator.py\n",
    "%run -i ../../scripts/Images_generation/cosmos_params.py"
   ]
  },
  {
   "cell_type": "code",
   "execution_count": 8,
   "metadata": {},
   "outputs": [],
   "source": [
    "def peak_detection(denormed_img, band, shifts, img_size, npeaks, nb_blended_gal, training_or_test, dist_cut):\n",
    "    gal = denormed_img\n",
    "    df_temp = photutils.find_peaks(gal, threshold=5*np.sqrt(sky_level_pixel[band]), npeaks=npeaks, centroid_func=centroid_com)\n",
    "    if df_temp is not None:\n",
    "        df_temp['x_peak'] = (df_temp['x_centroid']-((img_size/2.)-0.5))*pixel_scale[band]\n",
    "        df_temp['y_peak'] = (df_temp['y_centroid']-((img_size/2.)-0.5))*pixel_scale[band]\n",
    "        df_temp.sort('peak_value', reverse=True)\n",
    "        # Distances of true centers to brightest peak\n",
    "        qq = [np.sqrt(float((shifts[j,0]-df_temp['x_peak'][0])**2+ (shifts[j,1]-df_temp['y_peak'][0])**2)) for j in range(nb_blended_gal)]\n",
    "        idx_closest = np.argmin(qq)\n",
    "        if nb_blended_gal>1:\n",
    "            # Distance from peak galaxy to others\n",
    "            qq_prime = [np.sqrt(float((shifts[idx_closest,0]-shifts[j,0])**2+ (shifts[idx_closest,1]-shifts[j,1])**2)) if j!=idx_closest else np.inf for j in range(nb_blended_gal)]\n",
    "            idx_closest_to_peak_galaxy = np.argmin(qq_prime)\n",
    "            if training_or_test != 'test':\n",
    "                if not np.all(np.array(qq_prime) > dist_cut):\n",
    "                    print('TRAINING CUT: closest is not central and others are too close')\n",
    "                    return False\n",
    "        else:\n",
    "            idx_closest_to_peak_galaxy = np.nan\n",
    "        return idx_closest, idx_closest_to_peak_galaxy, df_temp[0]['x_centroid'], df_temp[0]['y_centroid'], df_temp[0]['x_peak'], df_temp[0]['y_peak'], len(df_temp)\n",
    "    else:\n",
    "        return False"
   ]
  },
  {
   "cell_type": "code",
   "execution_count": null,
   "metadata": {},
   "outputs": [],
   "source": [
    "blends_noisy = images[:,1]\n",
    "max_stamp_size = 64"
   ]
  },
  {
   "cell_type": "code",
   "execution_count": null,
   "metadata": {},
   "outputs": [],
   "source": [
    "band = 6\n",
    "\n",
    "peak_detection_output = peak_detection(blends_noisy, band, shifts, max_stamp_size*2, 4,nb_blended_gal, training_or_test, dist_cut=0.65/2.)\n",
    "if not peak_detection_output:\n",
    "    print('No peak detected')\n",
    "    raise RuntimeError\n",
    "else:\n",
    "    idx_closest_to_peak, idx_closest_to_peak_galaxy, center_pix_x, center_pix_y, center_arc_x, center_arc_y, n_peak = peak_detection_output\n",
    "\n",
    "# Modify galaxies and shift accordingly\n",
    "galaxies = [gal.shift(-center_arc_x, -center_arc_y) for gal in galaxies]\n",
    "shift[:nb_blended_gal] -= np.array([center_arc_x, center_arc_y])"
   ]
  },
  {
   "cell_type": "code",
   "execution_count": 37,
   "metadata": {},
   "outputs": [
    {
     "data": {
      "text/plain": [
       "(10000, 2, 2)"
      ]
     },
     "execution_count": 37,
     "metadata": {},
     "output_type": "execute_result"
    }
   ],
   "source": [
    "e_beta.shape"
   ]
  },
  {
   "cell_type": "code",
   "execution_count": 38,
   "metadata": {},
   "outputs": [
    {
     "data": {
      "text/plain": [
       "(0, 1)"
      ]
     },
     "execution_count": 38,
     "metadata": {},
     "output_type": "execute_result"
    },
    {
     "data": {
      "image/png": "[encoded data removed]",
      "text/plain": [
       "<Figure size 432x288 with 1 Axes>"
      ]
     },
     "metadata": {
      "needs_background": "light"
     },
     "output_type": "display_data"
    }
   ],
   "source": [
    "_ = plt.hist(e_beta[:,0,0], bins = 100)\n",
    "plt.xlim(0,1)"
   ]
  },
  {
   "cell_type": "code",
   "execution_count": 39,
   "metadata": {},
   "outputs": [
    {
     "data": {
      "text/plain": [
       "(0, 1)"
      ]
     },
     "execution_count": 39,
     "metadata": {},
     "output_type": "execute_result"
    },
    {
     "data": {
      "image/png": "[encoded data removed]",
      "text/plain": [
       "<Figure size 432x288 with 1 Axes>"
      ]
     },
     "metadata": {
      "needs_background": "light"
     },
     "output_type": "display_data"
    }
   ],
   "source": [
    "_ = plt.hist(e_beta[:,1,0], bins = 100)\n",
    "plt.xlim(0,1)"
   ]
  },
  {
   "cell_type": "code",
   "execution_count": 46,
   "metadata": {},
   "outputs": [
    {
     "data": {
      "text/plain": [
       "<matplotlib.legend.Legend at 0x7f9f53dfc7f0>"
      ]
     },
     "execution_count": 46,
     "metadata": {},
     "output_type": "execute_result"
    },
    {
     "data": {
      "image/png": "[encoded data removed]",
      "text/plain": [
       "<Figure size 432x288 with 1 Axes>"
      ]
     },
     "metadata": {
      "needs_background": "light"
     },
     "output_type": "display_data"
    }
   ],
   "source": [
    "_ = plt.hist(e_beta[:,0,0], bins = 50, alpha = 0.4, label='former sample')\n",
    "_ = plt.hist(e_beta[:,1,0], bins = 50, alpha = 0.4, label='current sample')\n",
    "\n",
    "plt.legend()"
   ]
  },
  {
   "cell_type": "code",
   "execution_count": 40,
   "metadata": {},
   "outputs": [
    {
     "data": {
      "image/png": "[encoded data removed]",
      "text/plain": [
       "<Figure size 432x288 with 1 Axes>"
      ]
     },
     "metadata": {
      "needs_background": "light"
     },
     "output_type": "display_data"
    }
   ],
   "source": [
    "_ = plt.hist(np.log10(flux_in), bins = 50, log = True)"
   ]
  },
  {
   "cell_type": "code",
   "execution_count": 41,
   "metadata": {},
   "outputs": [
    {
     "data": {
      "image/png": "[encoded data removed]",
      "text/plain": [
       "<Figure size 432x288 with 1 Axes>"
      ]
     },
     "metadata": {
      "needs_background": "light"
     },
     "output_type": "display_data"
    }
   ],
   "source": [
    "_ = plt.hist(np.log10(flux_out), bins = 50, log = True)"
   ]
  },
  {
   "cell_type": "code",
   "execution_count": 42,
   "metadata": {},
   "outputs": [],
   "source": [
    "mag_former = -2.5*np.log10(flux_in)+38.4147\n",
    "mag_now = -2.5*np.log10(flux_out)+38.4147"
   ]
  },
  {
   "cell_type": "code",
   "execution_count": 43,
   "metadata": {},
   "outputs": [
    {
     "data": {
      "text/plain": [
       "(10000,)"
      ]
     },
     "execution_count": 43,
     "metadata": {},
     "output_type": "execute_result"
    }
   ],
   "source": [
    "mag_former.shape"
   ]
  },
  {
   "cell_type": "code",
   "execution_count": 44,
   "metadata": {},
   "outputs": [
    {
     "data": {
      "text/plain": [
       "<matplotlib.legend.Legend at 0x7f9f53f41a58>"
      ]
     },
     "execution_count": 44,
     "metadata": {},
     "output_type": "execute_result"
    },
    {
     "data": {
      "image/png": "[encoded data removed]",
      "text/plain": [
       "<Figure size 432x288 with 1 Axes>"
      ]
     },
     "metadata": {
      "needs_background": "light"
     },
     "output_type": "display_data"
    }
   ],
   "source": [
    "_ = plt.hist(mag_former, bins = 50, alpha = 0.4, label='former sample')\n",
    "_ = plt.hist(mag_now, bins = 50, alpha = 0.4, label='current sample')\n",
    "\n",
    "plt.legend()"
   ]
  },
  {
   "cell_type": "code",
   "execution_count": 45,
   "metadata": {},
   "outputs": [
    {
     "data": {
      "text/plain": [
       "28.10048569533257"
      ]
     },
     "execution_count": 45,
     "metadata": {},
     "output_type": "execute_result"
    }
   ],
   "source": [
    "np.max(mag_now)"
   ]
  },
  {
   "cell_type": "code",
   "execution_count": 54,
   "metadata": {},
   "outputs": [],
   "source": [
    "input_noiseless = former[:,1]\n",
    "output_vae = denorm(now[:,1], np.arange(10))\n",
    "\n",
    "flux_in = []\n",
    "flux_out = []\n",
    "for j in range(10000):\n",
    "    # Measurement of fluxes\n",
    "    #mask = plot.createCircularMask(im_size,im_size,None,5)\n",
    "    masked_img_in_simple = input_noiseless[j][r_band,:,:]\n",
    "    #masked_img_in_simple[~mask] = 0  \n",
    "\n",
    "    masked_img_out_simple = output_vae[j][r_band,:,:]\n",
    "    #masked_img_out_simple[~mask] = 0\n",
    "\n",
    "    # Calculate the luminosity by substracting the noise\n",
    "    #flux_in[j,i] = np.sum(masked_img_in_simple)\n",
    "    flux_in.append(np.sum(masked_img_in_simple))\n",
    "    #flux_out[j,i] = np.sum(masked_img_out_simple)\n",
    "    flux_out.append(np.sum(masked_img_out_simple))\n",
    "\n",
    "    # Save scale radius and SNR\n",
    "    #scale_radius.append(input_vae[2][i])\n",
    "    #SNR.append(input_vae[3][i])\n",
    "\n",
    "    #except :\n",
    "    #    print('error for galaxy '+str(j*100))\n",
    "    #    pass\n",
    "    #continue\n",
    "\n",
    "    #indices.append(input_vae[3])\n",
    "\n",
    "flux_in_noisy = np.array(flux_in)#np.concatenate(flux_in)\n",
    "flux_out_noisy = np.array(flux_out)#np.concatenate(flux_out)"
   ]
  },
  {
   "cell_type": "code",
   "execution_count": 55,
   "metadata": {},
   "outputs": [
    {
     "data": {
      "text/plain": [
       "29674813.31249913"
      ]
     },
     "execution_count": 55,
     "metadata": {},
     "output_type": "execute_result"
    }
   ],
   "source": [
    "np.max(flux_out_noisy)"
   ]
  },
  {
   "cell_type": "code",
   "execution_count": 57,
   "metadata": {},
   "outputs": [
    {
     "name": "stderr",
     "output_type": "stream",
     "text": [
      "/sps/lsst/users/barcelin/miniconda/envs/python_cpu4/lib/python3.6/site-packages/ipykernel_launcher.py:1: RuntimeWarning: invalid value encountered in log10\n",
      "  \"\"\"Entry point for launching an IPython kernel.\n",
      "/sps/lsst/users/barcelin/miniconda/envs/python_cpu4/lib/python3.6/site-packages/ipykernel_launcher.py:2: RuntimeWarning: invalid value encountered in log10\n",
      "  \n"
     ]
    },
    {
     "data": {
      "text/plain": [
       "<matplotlib.legend.Legend at 0x7f99388a7390>"
      ]
     },
     "execution_count": 57,
     "metadata": {},
     "output_type": "execute_result"
    },
    {
     "data": {
      "image/png": "[encoded data removed]",
      "text/plain": [
       "<Figure size 432x288 with 1 Axes>"
      ]
     },
     "metadata": {
      "needs_background": "light"
     },
     "output_type": "display_data"
    }
   ],
   "source": [
    "_ = plt.hist(np.log10(flux_in_noisy), bins = 50, log = True, alpha = 0.4, label='former sample')\n",
    "_ = plt.hist(np.log10(flux_out_noisy), bins = 50, log = True, alpha = 0.4, label='current sample')\n",
    "\n",
    "plt.legend()"
   ]
  },
  {
   "cell_type": "code",
   "execution_count": 80,
   "metadata": {},
   "outputs": [],
   "source": [
    "former = np.load('/sps/lsst/users/barcelin/data/single/PSF_lsst_O.65/independant/galaxies_COSMOS_4_v5_test.npy', mmap_mode = 'c')\n",
    "now = np.load('/sps/lsst/users/barcelin/data/single_galaxies/training/galaxies_isolated_20191022_2_images.npy', mmap_mode = 'c')"
   ]
  },
  {
   "cell_type": "code",
   "execution_count": 81,
   "metadata": {},
   "outputs": [],
   "source": [
    "input_noiseless = norm(former[:,1], np.arange(10))\n",
    "output_vae = now[:,1]# denorm(, np.arange(10))\n",
    "\n",
    "flux_in = []\n",
    "flux_out = []\n",
    "for j in range(10000):\n",
    "    # Measurement of fluxes\n",
    "    masked_img_in_simple = input_noiseless[j][r_band,:,:]\n",
    "\n",
    "    masked_img_out_simple = output_vae[j][r_band,:,:]\n",
    "    #masked_img_out_simple[~mask] = 0\n",
    "\n",
    "    # Calculate the luminosity by substracting the noise\n",
    "    #flux_in[j,i] = np.sum(masked_img_in_simple)\n",
    "    flux_in.append(np.ravel(masked_img_in_simple))\n",
    "    #flux_out[j,i] = np.sum(masked_img_out_simple)\n",
    "    flux_out.append(np.ravel(masked_img_out_simple))\n",
    "\n",
    "\n",
    "flux_in_noisy = np.concatenate(np.array(flux_in))\n",
    "flux_out_noisy = np.concatenate(np.array(flux_out))"
   ]
  },
  {
   "cell_type": "code",
   "execution_count": 82,
   "metadata": {},
   "outputs": [
    {
     "data": {
      "text/plain": [
       "(-0.5597217903257479, 0.9999921669594374)"
      ]
     },
     "execution_count": 82,
     "metadata": {},
     "output_type": "execute_result"
    }
   ],
   "source": [
    "np.min(flux_in_noisy), np.max(flux_in_noisy)"
   ]
  },
  {
   "cell_type": "code",
   "execution_count": 83,
   "metadata": {},
   "outputs": [
    {
     "data": {
      "text/plain": [
       "(-0.5484843788683003, 0.9999948799538035)"
      ]
     },
     "execution_count": 83,
     "metadata": {},
     "output_type": "execute_result"
    }
   ],
   "source": [
    "np.min(flux_out_noisy), np.max(flux_out_noisy)"
   ]
  },
  {
   "cell_type": "code",
   "execution_count": 84,
   "metadata": {},
   "outputs": [
    {
     "data": {
      "text/plain": [
       "<matplotlib.legend.Legend at 0x7fa2610084a8>"
      ]
     },
     "execution_count": 84,
     "metadata": {},
     "output_type": "execute_result"
    },
    {
     "data": {
      "image/png": "[encoded data removed]",
      "text/plain": [
       "<Figure size 432x288 with 1 Axes>"
      ]
     },
     "metadata": {
      "needs_background": "light"
     },
     "output_type": "display_data"
    }
   ],
   "source": [
    "_ = plt.hist(flux_in_noisy, bins = 50, log = True, alpha = 0.4, label='former sample')\n",
    "_ = plt.hist(flux_out_noisy, bins = 50, log = True, alpha = 0.4, label='current sample')\n",
    "\n",
    "#plt.xlim(0, np.max(np.log10(flux_in_noisy)))\n",
    "plt.legend()\n",
    "#plt.xscale('log')"
   ]
  },
  {
   "cell_type": "code",
   "execution_count": null,
   "metadata": {},
   "outputs": [],
   "source": []
  }
 ],
 "metadata": {
  "kernelspec": {
   "display_name": "Python 3",
   "language": "python",
   "name": "python3"
  },
  "language_info": {
   "codemirror_mode": {
    "name": "ipython",
    "version": 3
   },
   "file_extension": ".py",
   "mimetype": "text/x-python",
   "name": "python",
   "nbconvert_exporter": "python",
   "pygments_lexer": "ipython3",
   "version": "3.6.8"
  },
  "toc": {
   "base_numbering": 1,
   "nav_menu": {},
   "number_sections": true,
   "sideBar": true,
   "skip_h1_title": false,
   "title_cell": "Table of Contents",
   "title_sidebar": "Contents",
   "toc_cell": false,
   "toc_position": {},
   "toc_section_display": true,
   "toc_window_display": false
  }
 },
 "nbformat": 4,
 "nbformat_minor": 2
}
