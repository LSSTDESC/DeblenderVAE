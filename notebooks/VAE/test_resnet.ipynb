{
 "cells": [
  {
   "cell_type": "code",
   "execution_count": 1,
   "metadata": {},
   "outputs": [],
   "source": [
    "import numpy as np\n",
    "import matplotlib.pyplot as plt\n",
    "import tensorflow.keras\n",
    "import sys\n",
    "import os\n",
    "import logging\n",
    "import galsim\n",
    "import random\n",
    "import cmath as cm\n",
    "import math\n",
    "from tensorflow.keras import backend as K\n",
    "from tensorflow.keras import metrics\n",
    "from tensorflow.keras.layers import Input, Dense, Lambda, Layer, Add, Multiply, Reshape, Flatten, BatchNormalization\n",
    "from tensorflow.keras.models import Model, Sequential\n",
    "import scipy\n",
    "import scipy.stats as stats\n",
    "from astropy.io import fits\n",
    "from astropy.cosmology import WMAP9 as cosmo\n",
    "%matplotlib inline\n",
    "from tensorflow.keras.layers import Conv2D, Input, Dense, Dropout, MaxPool2D, Flatten,  Reshape, UpSampling2D, Cropping2D, Conv2DTranspose, PReLU, Concatenate, Lambda, BatchNormalization, concatenate\n",
    "import tensorflow as tf\n",
    "import seaborn as sns"
   ]
  },
  {
   "cell_type": "code",
   "execution_count": 2,
   "metadata": {},
   "outputs": [],
   "source": [
    "import numpy as np\n",
    "import matplotlib.pyplot as plt\n",
    "import tensorflow.keras\n",
    "import sys\n",
    "import os\n",
    "import logging\n",
    "import galsim\n",
    "import random\n",
    "import cmath as cm\n",
    "import math\n",
    "from tensorflow.keras import backend as K\n",
    "from tensorflow.keras import metrics\n",
    "from tensorflow.keras.layers import Input, Dense, Lambda, Layer, Add, Multiply, Reshape, Flatten, BatchNormalization\n",
    "from tensorflow.keras.models import Model, Sequential\n",
    "from tensorflow.keras.layers import Conv2D, Input, Dense, Dropout, MaxPool2D, Flatten,  Reshape, UpSampling2D, Cropping2D, Conv2DTranspose, PReLU, Concatenate, Lambda, BatchNormalization, concatenate, LeakyReLU"
   ]
  },
  {
   "cell_type": "code",
   "execution_count": 3,
   "metadata": {},
   "outputs": [],
   "source": [
    "nb_of_bands = 1"
   ]
  },
  {
   "cell_type": "code",
   "execution_count": 4,
   "metadata": {},
   "outputs": [],
   "source": [
    "#### Create encooder\n",
    "def build_encoder(latent_dim, hidden_dim, filters, kernels,nb_of_bands, conv_activation='softplus', dense_activation='softplus'):\n",
    "    \"\"\"\n",
    "    Return encoder as model\n",
    "    latent_dim : dimension of the latent variable\n",
    "    hidden_dim : dimension of the dense hidden layer\n",
    "    filters: list of the sizes of the filters used for this model\n",
    "    list of the size of the kernels used for each filter of this model\n",
    "    conv_activation: type of activation layer used after the convolutional layers\n",
    "    dense_activation: type of activation layer used after the dense layers\n",
    "    nb_of bands : nb of band-pass filters needed in the model\n",
    "    \"\"\"\n",
    "    input_layer = Input(shape=(64,64,nb_of_bands))\n",
    "\n",
    "    r = Reshape((64,64,nb_of_bands))(input_layer)\n",
    "    h = BatchNormalization()(r)\n",
    "    h_shortcut = h\n",
    "    for i in range(len(filters)):\n",
    "        h = Conv2D(filters[i], (kernels[i],kernels[i]), activation=conv_activation, padding='same')(h)\n",
    "        h = PReLU()(h)\n",
    "        h = Conv2D(filters[i], (kernels[i],kernels[i]), activation=conv_activation, padding='same', strides=(2,2))(h)\n",
    "        h = PReLU()(h)\n",
    "    h = Flatten()(h)\n",
    "    h = Dense(hidden_dim, activation=dense_activation)(h)\n",
    "    h = PReLU()(h)\n",
    "    mu = Dense(latent_dim)(h)\n",
    "    sigma = Dense(latent_dim, activation='softplus')(h)\n",
    "    return Model(input_layer, [mu, sigma, h_shortcut])"
   ]
  },
  {
   "cell_type": "code",
   "execution_count": 5,
   "metadata": {},
   "outputs": [
    {
     "name": "stdout",
     "output_type": "stream",
     "text": [
      "WARNING:tensorflow:From /sps/lsst/users/barcelin/miniconda/envs/python_cpu4/lib/python3.6/site-packages/tensorflow/python/ops/resource_variable_ops.py:435: colocate_with (from tensorflow.python.framework.ops) is deprecated and will be removed in a future version.\n",
      "Instructions for updating:\n",
      "Colocations handled automatically by placer.\n"
     ]
    }
   ],
   "source": [
    "batch_size = 100 \n",
    "\n",
    "input_shape = (64,64,nb_of_bands)\n",
    "hidden_dim = 256\n",
    "filters = [32,64, 128, 256]\n",
    "kernels = [3,3,3,3]\n",
    "nb_of_bands = 1\n",
    "latent_dim = 32\n",
    "\n",
    "# Build the encoder\n",
    "encoder = build_encoder(latent_dim, hidden_dim, filters, kernels, nb_of_bands)"
   ]
  },
  {
   "cell_type": "code",
   "execution_count": 6,
   "metadata": {},
   "outputs": [
    {
     "name": "stdout",
     "output_type": "stream",
     "text": [
      "__________________________________________________________________________________________________\n",
      "Layer (type)                    Output Shape         Param #     Connected to                     \n",
      "==================================================================================================\n",
      "input_1 (InputLayer)            (None, 64, 64, 1)    0                                            \n",
      "__________________________________________________________________________________________________\n",
      "reshape (Reshape)               (None, 64, 64, 1)    0           input_1[0][0]                    \n",
      "__________________________________________________________________________________________________\n",
      "batch_normalization_v1 (BatchNo (None, 64, 64, 1)    4           reshape[0][0]                    \n",
      "__________________________________________________________________________________________________\n",
      "conv2d (Conv2D)                 (None, 64, 64, 32)   320         batch_normalization_v1[0][0]     \n",
      "__________________________________________________________________________________________________\n",
      "p_re_lu (PReLU)                 (None, 64, 64, 32)   131072      conv2d[0][0]                     \n",
      "__________________________________________________________________________________________________\n",
      "conv2d_1 (Conv2D)               (None, 32, 32, 32)   9248        p_re_lu[0][0]                    \n",
      "__________________________________________________________________________________________________\n",
      "p_re_lu_1 (PReLU)               (None, 32, 32, 32)   32768       conv2d_1[0][0]                   \n",
      "__________________________________________________________________________________________________\n",
      "conv2d_2 (Conv2D)               (None, 32, 32, 64)   18496       p_re_lu_1[0][0]                  \n",
      "__________________________________________________________________________________________________\n",
      "p_re_lu_2 (PReLU)               (None, 32, 32, 64)   65536       conv2d_2[0][0]                   \n",
      "__________________________________________________________________________________________________\n",
      "conv2d_3 (Conv2D)               (None, 16, 16, 64)   36928       p_re_lu_2[0][0]                  \n",
      "__________________________________________________________________________________________________\n",
      "p_re_lu_3 (PReLU)               (None, 16, 16, 64)   16384       conv2d_3[0][0]                   \n",
      "__________________________________________________________________________________________________\n",
      "conv2d_4 (Conv2D)               (None, 16, 16, 128)  73856       p_re_lu_3[0][0]                  \n",
      "__________________________________________________________________________________________________\n",
      "p_re_lu_4 (PReLU)               (None, 16, 16, 128)  32768       conv2d_4[0][0]                   \n",
      "__________________________________________________________________________________________________\n",
      "conv2d_5 (Conv2D)               (None, 8, 8, 128)    147584      p_re_lu_4[0][0]                  \n",
      "__________________________________________________________________________________________________\n",
      "p_re_lu_5 (PReLU)               (None, 8, 8, 128)    8192        conv2d_5[0][0]                   \n",
      "__________________________________________________________________________________________________\n",
      "conv2d_6 (Conv2D)               (None, 8, 8, 256)    295168      p_re_lu_5[0][0]                  \n",
      "__________________________________________________________________________________________________\n",
      "p_re_lu_6 (PReLU)               (None, 8, 8, 256)    16384       conv2d_6[0][0]                   \n",
      "__________________________________________________________________________________________________\n",
      "conv2d_7 (Conv2D)               (None, 4, 4, 256)    590080      p_re_lu_6[0][0]                  \n",
      "__________________________________________________________________________________________________\n",
      "p_re_lu_7 (PReLU)               (None, 4, 4, 256)    4096        conv2d_7[0][0]                   \n",
      "__________________________________________________________________________________________________\n",
      "flatten (Flatten)               (None, 4096)         0           p_re_lu_7[0][0]                  \n",
      "__________________________________________________________________________________________________\n",
      "dense (Dense)                   (None, 256)          1048832     flatten[0][0]                    \n",
      "__________________________________________________________________________________________________\n",
      "p_re_lu_8 (PReLU)               (None, 256)          256         dense[0][0]                      \n",
      "__________________________________________________________________________________________________\n",
      "dense_1 (Dense)                 (None, 32)           8224        p_re_lu_8[0][0]                  \n",
      "__________________________________________________________________________________________________\n",
      "dense_2 (Dense)                 (None, 32)           8224        p_re_lu_8[0][0]                  \n",
      "==================================================================================================\n",
      "Total params: 2,544,420\n",
      "Trainable params: 2,544,418\n",
      "Non-trainable params: 2\n",
      "__________________________________________________________________________________________________\n"
     ]
    }
   ],
   "source": [
    "encoder.summary()"
   ]
  },
  {
   "cell_type": "code",
   "execution_count": 7,
   "metadata": {},
   "outputs": [],
   "source": [
    "#### Create encooder\n",
    "def build_decoder(input_shape, latent_dim, hidden_dim, filters, kernels, conv_activation='softplus', dense_activation='softplus'):\n",
    "    \"\"\"\n",
    "    Return decoder as model\n",
    "    input_shape: shape of the input data\n",
    "    latent_dim : dimension of the latent variable\n",
    "    hidden_dim : dimension of the dense hidden layer\n",
    "    filters: list of the sizes of the filters used for this model\n",
    "    list of the size of the kernels used for each filter of this model\n",
    "    conv_activation: type of activation layer used after the convolutional layers\n",
    "    dense_activation: type of activation layer used after the dense layers\n",
    "    \"\"\"\n",
    "    input_layer = Input(shape=(latent_dim,))\n",
    "    h_shortcut = Input(shape=(64,64,1))\n",
    "    h = Dense(hidden_dim, activation=dense_activation)(input_layer)\n",
    "    h = PReLU()(h)\n",
    "    w = int(np.ceil(input_shape[0]/2**(len(filters))))\n",
    "    h = Dense(w*w*filters[-1], activation=dense_activation)(h)\n",
    "    h = PReLU()(h)\n",
    "    h = Reshape((w,w,filters[-1]))(h)\n",
    "    for i in range(len(filters)-1,-1,-1):\n",
    "        h = Conv2DTranspose(filters[i], (kernels[i],kernels[i]), activation=conv_activation, padding='same', strides=(2,2))(h)\n",
    "        h = PReLU()(h)\n",
    "        h = Conv2DTranspose(filters[i], (kernels[i],kernels[i]), activation=conv_activation, padding='same')(h)\n",
    "        h = PReLU()(h)\n",
    "    h = Add()([h, h_shortcut])\n",
    "    h = Conv2D(input_shape[-1], (3,3), activation='sigmoid', padding='same')(h)\n",
    "    cropping = int(h.get_shape()[1]-input_shape[0])\n",
    "    if cropping>0:\n",
    "        print('in cropping')\n",
    "        if cropping % 2 == 0:\n",
    "            h = Cropping2D(cropping/2)(h)\n",
    "        else:\n",
    "            h = Cropping2D(((cropping//2,cropping//2+1),(cropping//2,cropping//2+1)))(h)\n",
    "\n",
    "    return Model([input_layer, h_shortcut], h)"
   ]
  },
  {
   "cell_type": "code",
   "execution_count": 8,
   "metadata": {},
   "outputs": [],
   "source": [
    "# Build the decoder\n",
    "decoder = build_decoder(input_shape, latent_dim, hidden_dim, filters, kernels, conv_activation=None, dense_activation=None)"
   ]
  },
  {
   "cell_type": "code",
   "execution_count": 9,
   "metadata": {},
   "outputs": [
    {
     "name": "stdout",
     "output_type": "stream",
     "text": [
      "__________________________________________________________________________________________________\n",
      "Layer (type)                    Output Shape         Param #     Connected to                     \n",
      "==================================================================================================\n",
      "input_2 (InputLayer)            (None, 32)           0                                            \n",
      "__________________________________________________________________________________________________\n",
      "dense_3 (Dense)                 (None, 256)          8448        input_2[0][0]                    \n",
      "__________________________________________________________________________________________________\n",
      "p_re_lu_9 (PReLU)               (None, 256)          256         dense_3[0][0]                    \n",
      "__________________________________________________________________________________________________\n",
      "dense_4 (Dense)                 (None, 4096)         1052672     p_re_lu_9[0][0]                  \n",
      "__________________________________________________________________________________________________\n",
      "p_re_lu_10 (PReLU)              (None, 4096)         4096        dense_4[0][0]                    \n",
      "__________________________________________________________________________________________________\n",
      "reshape_1 (Reshape)             (None, 4, 4, 256)    0           p_re_lu_10[0][0]                 \n",
      "__________________________________________________________________________________________________\n",
      "conv2d_transpose (Conv2DTranspo (None, 8, 8, 256)    590080      reshape_1[0][0]                  \n",
      "__________________________________________________________________________________________________\n",
      "p_re_lu_11 (PReLU)              (None, 8, 8, 256)    16384       conv2d_transpose[0][0]           \n",
      "__________________________________________________________________________________________________\n",
      "conv2d_transpose_1 (Conv2DTrans (None, 8, 8, 256)    590080      p_re_lu_11[0][0]                 \n",
      "__________________________________________________________________________________________________\n",
      "p_re_lu_12 (PReLU)              (None, 8, 8, 256)    16384       conv2d_transpose_1[0][0]         \n",
      "__________________________________________________________________________________________________\n",
      "conv2d_transpose_2 (Conv2DTrans (None, 16, 16, 128)  295040      p_re_lu_12[0][0]                 \n",
      "__________________________________________________________________________________________________\n",
      "p_re_lu_13 (PReLU)              (None, 16, 16, 128)  32768       conv2d_transpose_2[0][0]         \n",
      "__________________________________________________________________________________________________\n",
      "conv2d_transpose_3 (Conv2DTrans (None, 16, 16, 128)  147584      p_re_lu_13[0][0]                 \n",
      "__________________________________________________________________________________________________\n",
      "p_re_lu_14 (PReLU)              (None, 16, 16, 128)  32768       conv2d_transpose_3[0][0]         \n",
      "__________________________________________________________________________________________________\n",
      "conv2d_transpose_4 (Conv2DTrans (None, 32, 32, 64)   73792       p_re_lu_14[0][0]                 \n",
      "__________________________________________________________________________________________________\n",
      "p_re_lu_15 (PReLU)              (None, 32, 32, 64)   65536       conv2d_transpose_4[0][0]         \n",
      "__________________________________________________________________________________________________\n",
      "conv2d_transpose_5 (Conv2DTrans (None, 32, 32, 64)   36928       p_re_lu_15[0][0]                 \n",
      "__________________________________________________________________________________________________\n",
      "p_re_lu_16 (PReLU)              (None, 32, 32, 64)   65536       conv2d_transpose_5[0][0]         \n",
      "__________________________________________________________________________________________________\n",
      "conv2d_transpose_6 (Conv2DTrans (None, 64, 64, 32)   18464       p_re_lu_16[0][0]                 \n",
      "__________________________________________________________________________________________________\n",
      "p_re_lu_17 (PReLU)              (None, 64, 64, 32)   131072      conv2d_transpose_6[0][0]         \n",
      "__________________________________________________________________________________________________\n",
      "conv2d_transpose_7 (Conv2DTrans (None, 64, 64, 32)   9248        p_re_lu_17[0][0]                 \n",
      "__________________________________________________________________________________________________\n",
      "p_re_lu_18 (PReLU)              (None, 64, 64, 32)   131072      conv2d_transpose_7[0][0]         \n",
      "__________________________________________________________________________________________________\n",
      "input_3 (InputLayer)            (None, 64, 64, 1)    0                                            \n",
      "__________________________________________________________________________________________________\n",
      "add (Add)                       (None, 64, 64, 32)   0           p_re_lu_18[0][0]                 \n",
      "                                                                 input_3[0][0]                    \n",
      "__________________________________________________________________________________________________\n",
      "conv2d_8 (Conv2D)               (None, 64, 64, 1)    289         add[0][0]                        \n",
      "==================================================================================================\n",
      "Total params: 3,318,497\n",
      "Trainable params: 3,318,497\n",
      "Non-trainable params: 0\n",
      "__________________________________________________________________________________________________\n"
     ]
    }
   ],
   "source": [
    "decoder.summary()"
   ]
  },
  {
   "cell_type": "code",
   "execution_count": 10,
   "metadata": {},
   "outputs": [
    {
     "name": "stdout",
     "output_type": "stream",
     "text": [
      "\n",
      "WARNING: The TensorFlow contrib module will not be included in TensorFlow 2.0.\n",
      "For more information, please see:\n",
      "  * https://github.com/tensorflow/community/blob/master/rfcs/20180907-contrib-sunset.md\n",
      "  * https://github.com/tensorflow/addons\n",
      "If you depend on functionality not listed there, please file an issue.\n",
      "\n"
     ]
    }
   ],
   "source": [
    "import layers"
   ]
  },
  {
   "cell_type": "code",
   "execution_count": 19,
   "metadata": {},
   "outputs": [],
   "source": [
    "def build_vanilla_vae(encoder, decoder, coeff_KL,full_cov=False):\n",
    "    \"\"\"\n",
    "    Returns the model to train and parameters to plot relevant information during training using the VAEHistory callback\n",
    "    \"\"\"\n",
    "    input_vae = Input(shape=encoder.input.shape[1:])\n",
    "    mu, sigma, shortcut = encoder(input_vae)\n",
    "\n",
    "    z, Dkl = layers.SampleMultivariateGaussian(full_cov=full_cov, add_KL=False, return_KL=True, coeff_KL=coeff_KL)([mu,sigma])\n",
    "    \n",
    "    vae = Model(input_vae, decoder([z,shortcut]))\n",
    "    vae_utils = Model(input_vae, [*encoder(input_vae), z, Dkl, decoder([z,shortcut])])\n",
    "\n",
    "    return vae, vae_utils, Dkl"
   ]
  },
  {
   "cell_type": "code",
   "execution_count": 21,
   "metadata": {},
   "outputs": [],
   "source": [
    "vae, vae_utils, Dkl = build_vanilla_vae(encoder, decoder, coeff_KL = None)"
   ]
  },
  {
   "cell_type": "code",
   "execution_count": 22,
   "metadata": {},
   "outputs": [
    {
     "name": "stdout",
     "output_type": "stream",
     "text": [
      "__________________________________________________________________________________________________\n",
      "Layer (type)                    Output Shape         Param #     Connected to                     \n",
      "==================================================================================================\n",
      "input_6 (InputLayer)            (None, 64, 64, 1)    0                                            \n",
      "__________________________________________________________________________________________________\n",
      "model (Model)                   [(None, 32), (None,  2544420     input_6[0][0]                    \n",
      "__________________________________________________________________________________________________\n",
      "sample_multivariate_gaussian_2  [(None, 32), (None,) 0           model[4][0]                      \n",
      "                                                                 model[4][1]                      \n",
      "__________________________________________________________________________________________________\n",
      "model_1 (Model)                 (None, 64, 64, 1)    3318497     sample_multivariate_gaussian_2[0]\n",
      "                                                                 model[4][2]                      \n",
      "==================================================================================================\n",
      "Total params: 5,862,917\n",
      "Trainable params: 5,862,915\n",
      "Non-trainable params: 2\n",
      "__________________________________________________________________________________________________\n"
     ]
    }
   ],
   "source": [
    "vae.summary()"
   ]
  },
  {
   "cell_type": "code",
   "execution_count": 14,
   "metadata": {},
   "outputs": [
    {
     "name": "stderr",
     "output_type": "stream",
     "text": [
      "Using TensorFlow backend.\n"
     ]
    }
   ],
   "source": [
    "from keras.utils.vis_utils import plot_model"
   ]
  },
  {
   "cell_type": "code",
   "execution_count": 18,
   "metadata": {},
   "outputs": [],
   "source": [
    "plot_model(vae, to_file='test_resnet.png', show_shapes=True, show_layer_names=True)"
   ]
  },
  {
   "cell_type": "code",
   "execution_count": null,
   "metadata": {},
   "outputs": [],
   "source": []
  }
 ],
 "metadata": {
  "kernelspec": {
   "display_name": "Python 3",
   "language": "python",
   "name": "python3"
  }
 },
 "nbformat": 4,
 "nbformat_minor": 2
}
